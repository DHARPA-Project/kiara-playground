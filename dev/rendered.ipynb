{
 "cells": [
  {
   "cell_type": "code",
   "execution_count": null,
   "id": "f5a7f0b7",
   "metadata": {
    "lines_to_next_cell": 2
   },
   "outputs": [],
   "source": [
    "import kiara\n",
    "from kiara.interfaces.python_api import Step\n",
    "from kiara.utils.jupyter import graph_to_image"
   ]
  },
  {
   "cell_type": "markdown",
   "id": "6cbab352",
   "metadata": {
    "lines_to_next_cell": 0
   },
   "source": [
    "# Table of contents\n",
    "* [Assembling the workflow](#assembly)\n",
    "    * [Creating the steps of the workflow](#creating_steps)\n",
    "        * [Execution stage: 1](#execution_stage_1)\n",
    "            - [Step: ``read_files_in_folder``](#execution_stage_1_read_files_in_folder)\n",
    "        * [Execution stage: 2](#execution_stage_2)\n",
    "            - [Step: ``create_table_from_csvs``](#execution_stage_1_create_table_from_csvs)\n",
    "        * [Execution stage: 3](#execution_stage_3)\n",
    "            - [Step: ``extract_date_from_file_name``](#execution_stage_1_extract_date_from_file_name)\n",
    "            - [Step: ``extract_ref_from_file_name``](#execution_stage_2_extract_ref_from_file_name)\n",
    "        * [Execution stage: 4](#execution_stage_4)\n",
    "            - [Step: ``lookup_publication_name``](#execution_stage_1_lookup_publication_name)\n",
    "            - [Step: ``create_date_range_filter``](#execution_stage_2_create_date_range_filter)\n",
    "        * [Execution stage: 5](#execution_stage_5)\n",
    "            - [Step: ``merged_table``](#execution_stage_1_merged_table)\n",
    "        * [Execution stage: 6](#execution_stage_6)\n",
    "            - [Step: ``filtered_table``](#execution_stage_1_filtered_table)\n",
    "        * [Execution stage: 7](#execution_stage_7)\n",
    "            - [Step: ``tokenize_text_corpus``](#execution_stage_1_tokenize_text_corpus)\n",
    "        * [Execution stage: 8](#execution_stage_8)\n",
    "            - [Step: ``remove_stopwords``](#execution_stage_1_remove_stopwords)\n",
    "        * [Execution stage: 9](#execution_stage_9)\n",
    "            - [Step: ``lemmatize_corpus``](#execution_stage_1_lemmatize_corpus)\n",
    "        * [Execution stage: 10](#execution_stage_10)\n",
    "            - [Step: ``generate_lda``](#execution_stage_1_generate_lda)\n",
    "    * [Connecting the workflow steps](#connecting_steps)\n",
    "* [Workflow information](#workflow_info)\n",
    "* [Setting workflow inputs](#workflow_inputs)\n",
    "* [Workflow results](#workflow_results)\n",
    "    - [Step: ``read_files_in_folder``](#output_stage_1_read_files_in_folder)\n",
    "    - [Step: ``create_table_from_csvs``](#output_stage_1_create_table_from_csvs)\n",
    "    - [Step: ``extract_date_from_file_name``](#output_stage_1_extract_date_from_file_name)\n",
    "    - [Step: ``extract_ref_from_file_name``](#output_stage_2_extract_ref_from_file_name)\n",
    "    - [Step: ``lookup_publication_name``](#output_stage_1_lookup_publication_name)\n",
    "    - [Step: ``create_date_range_filter``](#output_stage_2_create_date_range_filter)\n",
    "    - [Step: ``merged_table``](#output_stage_1_merged_table)\n",
    "    - [Step: ``filtered_table``](#output_stage_1_filtered_table)\n",
    "    - [Step: ``tokenize_text_corpus``](#output_stage_1_tokenize_text_corpus)\n",
    "    - [Step: ``remove_stopwords``](#output_stage_1_remove_stopwords)\n",
    "    - [Step: ``lemmatize_corpus``](#output_stage_1_lemmatize_corpus)\n",
    "    - [Step: ``generate_lda``](#output_stage_1_generate_lda)"
   ]
  },
  {
   "cell_type": "markdown",
   "id": "7dd580d8",
   "metadata": {
    "lines_to_next_cell": 2
   },
   "source": [
    "# Assembling the workflow <a class=\"anchor\" id=\"assembly\"></a>\n",
    "\n",
    "The first step in the creation of our workflow is to create the individual steps from the available *kiara* modules.\n",
    "\n",
    "A list of available modules and their aliases can be found here: TODO\n",
    "\n",
    "## Creating the steps of the workflow <a class=\"anchor\" id=\"creating_steps\"></a>"
   ]
  },
  {
   "cell_type": "markdown",
   "id": "244a51e3",
   "metadata": {
    "lines_to_next_cell": 0
   },
   "source": [
    "### Execution stage: 1 <a class=\"anchor\" id=\"execution_stage_1\"></a>"
   ]
  },
  {
   "cell_type": "markdown",
   "id": "d75f3da8",
   "metadata": {},
   "source": [
    "\n",
    "#### Creating step: ``read_files_in_folder`` <a class=\"anchor\" id=\"execution_stage_1_read_files_in_folder\"></a>"
   ]
  },
  {
   "cell_type": "code",
   "execution_count": null,
   "id": "a69fdd83",
   "metadata": {
    "lines_to_next_cell": 2
   },
   "outputs": [],
   "source": [
    "step_read_files_in_folder = Step(\"onboarding.folder.import\", step_id=\"read_files_in_folder\")\n",
    "step_read_files_in_folder.info"
   ]
  },
  {
   "cell_type": "markdown",
   "id": "cacf3eb8",
   "metadata": {
    "lines_to_next_cell": 0
   },
   "source": [
    "### Execution stage: 2 <a class=\"anchor\" id=\"execution_stage_2\"></a>"
   ]
  },
  {
   "cell_type": "markdown",
   "id": "146f71e9",
   "metadata": {},
   "source": [
    "\n",
    "#### Creating step: ``create_table_from_csvs`` <a class=\"anchor\" id=\"execution_stage_1_create_table_from_csvs\"></a>"
   ]
  },
  {
   "cell_type": "code",
   "execution_count": null,
   "id": "99fb137d",
   "metadata": {
    "lines_to_next_cell": 2
   },
   "outputs": [],
   "source": [
    "step_create_table_from_csvs_config = {'columns': ['id', 'rel_path', 'file_name', 'content']}\n",
    "step_create_table_from_csvs = Step(\n",
    "    \"table.from_file_bundle\",\n",
    "    module_config=step_create_table_from_csvs_config,\n",
    "    step_id=\"create_table_from_csvs\")\n",
    "step_create_table_from_csvs.info"
   ]
  },
  {
   "cell_type": "markdown",
   "id": "cc2ced20",
   "metadata": {
    "lines_to_next_cell": 0
   },
   "source": [
    "### Execution stage: 3 <a class=\"anchor\" id=\"execution_stage_3\"></a>"
   ]
  },
  {
   "cell_type": "markdown",
   "id": "4006a455",
   "metadata": {},
   "source": [
    "\n",
    "#### Creating step: ``extract_date_from_file_name`` <a class=\"anchor\" id=\"execution_stage_1_extract_date_from_file_name\"></a>"
   ]
  },
  {
   "cell_type": "code",
   "execution_count": null,
   "id": "5ff65d94",
   "metadata": {},
   "outputs": [],
   "source": [
    "step_extract_date_from_file_name_config = {'module_type': 'date.extract_from_string'}\n",
    "step_extract_date_from_file_name = Step(\n",
    "    \"array.map\",\n",
    "    module_config=step_extract_date_from_file_name_config,\n",
    "    step_id=\"extract_date_from_file_name\")\n",
    "step_extract_date_from_file_name.info"
   ]
  },
  {
   "cell_type": "markdown",
   "id": "b09547d8",
   "metadata": {},
   "source": [
    "\n",
    "#### Creating step: ``extract_ref_from_file_name`` <a class=\"anchor\" id=\"execution_stage_2_extract_ref_from_file_name\"></a>"
   ]
  },
  {
   "cell_type": "code",
   "execution_count": null,
   "id": "5c60b665",
   "metadata": {
    "lines_to_next_cell": 2
   },
   "outputs": [],
   "source": [
    "step_extract_ref_from_file_name_config = {'module_type': 'string.match_regex', 'module_config': {'regex': '(\\\\w+\\\\d+)_\\\\d{4}-\\\\d{2}-\\\\d{2}_', 'only_first_match': True}}\n",
    "step_extract_ref_from_file_name = Step(\n",
    "    \"array.map\",\n",
    "    module_config=step_extract_ref_from_file_name_config,\n",
    "    step_id=\"extract_ref_from_file_name\")\n",
    "step_extract_ref_from_file_name.info"
   ]
  },
  {
   "cell_type": "markdown",
   "id": "66181897",
   "metadata": {
    "lines_to_next_cell": 0
   },
   "source": [
    "### Execution stage: 4 <a class=\"anchor\" id=\"execution_stage_4\"></a>"
   ]
  },
  {
   "cell_type": "markdown",
   "id": "ce064ef3",
   "metadata": {},
   "source": [
    "\n",
    "#### Creating step: ``lookup_publication_name`` <a class=\"anchor\" id=\"execution_stage_1_lookup_publication_name\"></a>"
   ]
  },
  {
   "cell_type": "code",
   "execution_count": null,
   "id": "f2da2209",
   "metadata": {},
   "outputs": [],
   "source": [
    "step_lookup_publication_name_config = {'module_type': 'string.replace', 'module_config': {'replacement_map': {'sn85066408': \"L\\\\'Italia\", '2012271201': 'Cronaca Sovversiva'}}}\n",
    "step_lookup_publication_name = Step(\n",
    "    \"array.map\",\n",
    "    module_config=step_lookup_publication_name_config,\n",
    "    step_id=\"lookup_publication_name\")\n",
    "step_lookup_publication_name.info"
   ]
  },
  {
   "cell_type": "markdown",
   "id": "594df1bf",
   "metadata": {},
   "source": [
    "\n",
    "#### Creating step: ``create_date_range_filter`` <a class=\"anchor\" id=\"execution_stage_2_create_date_range_filter\"></a>"
   ]
  },
  {
   "cell_type": "code",
   "execution_count": null,
   "id": "9d87e18c",
   "metadata": {
    "lines_to_next_cell": 2
   },
   "outputs": [],
   "source": [
    "step_create_date_range_filter_config = {'module_type': 'date.range_check', 'input_name': 'date'}\n",
    "step_create_date_range_filter = Step(\n",
    "    \"array.map\",\n",
    "    module_config=step_create_date_range_filter_config,\n",
    "    step_id=\"create_date_range_filter\")\n",
    "step_create_date_range_filter.info"
   ]
  },
  {
   "cell_type": "markdown",
   "id": "5eab35ee",
   "metadata": {
    "lines_to_next_cell": 0
   },
   "source": [
    "### Execution stage: 5 <a class=\"anchor\" id=\"execution_stage_5\"></a>"
   ]
  },
  {
   "cell_type": "markdown",
   "id": "9f2594c8",
   "metadata": {},
   "source": [
    "\n",
    "#### Creating step: ``merged_table`` <a class=\"anchor\" id=\"execution_stage_1_merged_table\"></a>"
   ]
  },
  {
   "cell_type": "code",
   "execution_count": null,
   "id": "8b043a09",
   "metadata": {
    "lines_to_next_cell": 2
   },
   "outputs": [],
   "source": [
    "step_merged_table = Step(\"table.merge\", step_id=\"merged_table\")\n",
    "step_merged_table.info"
   ]
  },
  {
   "cell_type": "markdown",
   "id": "4590ddf9",
   "metadata": {
    "lines_to_next_cell": 0
   },
   "source": [
    "### Execution stage: 6 <a class=\"anchor\" id=\"execution_stage_6\"></a>"
   ]
  },
  {
   "cell_type": "markdown",
   "id": "fb2eb9f4",
   "metadata": {},
   "source": [
    "\n",
    "#### Creating step: ``filtered_table`` <a class=\"anchor\" id=\"execution_stage_1_filtered_table\"></a>"
   ]
  },
  {
   "cell_type": "code",
   "execution_count": null,
   "id": "8d1faf02",
   "metadata": {
    "lines_to_next_cell": 2
   },
   "outputs": [],
   "source": [
    "step_filtered_table = Step(\"table.filter.with_mask\", step_id=\"filtered_table\")\n",
    "step_filtered_table.info"
   ]
  },
  {
   "cell_type": "markdown",
   "id": "746898e1",
   "metadata": {
    "lines_to_next_cell": 0
   },
   "source": [
    "### Execution stage: 7 <a class=\"anchor\" id=\"execution_stage_7\"></a>"
   ]
  },
  {
   "cell_type": "markdown",
   "id": "24ed3660",
   "metadata": {},
   "source": [
    "\n",
    "#### Creating step: ``tokenize_text_corpus`` <a class=\"anchor\" id=\"execution_stage_1_tokenize_text_corpus\"></a>"
   ]
  },
  {
   "cell_type": "code",
   "execution_count": null,
   "id": "4a175085",
   "metadata": {
    "lines_to_next_cell": 2
   },
   "outputs": [],
   "source": [
    "step_tokenize_text_corpus_config = {'module_type': 'language.tokens.tokenize_text', 'input_name': 'text'}\n",
    "step_tokenize_text_corpus = Step(\n",
    "    \"array.map\",\n",
    "    module_config=step_tokenize_text_corpus_config,\n",
    "    step_id=\"tokenize_text_corpus\")\n",
    "step_tokenize_text_corpus.info"
   ]
  },
  {
   "cell_type": "markdown",
   "id": "38c2ad15",
   "metadata": {
    "lines_to_next_cell": 0
   },
   "source": [
    "### Execution stage: 8 <a class=\"anchor\" id=\"execution_stage_8\"></a>"
   ]
  },
  {
   "cell_type": "markdown",
   "id": "2bd95e7f",
   "metadata": {},
   "source": [
    "\n",
    "#### Creating step: ``remove_stopwords`` <a class=\"anchor\" id=\"execution_stage_1_remove_stopwords\"></a>"
   ]
  },
  {
   "cell_type": "code",
   "execution_count": null,
   "id": "f3358e86",
   "metadata": {
    "lines_to_next_cell": 2
   },
   "outputs": [],
   "source": [
    "step_remove_stopwords = Step(\"language.tokens.remove_stopwords\", step_id=\"remove_stopwords\")\n",
    "step_remove_stopwords.info"
   ]
  },
  {
   "cell_type": "markdown",
   "id": "e9fa4be9",
   "metadata": {
    "lines_to_next_cell": 0
   },
   "source": [
    "### Execution stage: 9 <a class=\"anchor\" id=\"execution_stage_9\"></a>"
   ]
  },
  {
   "cell_type": "markdown",
   "id": "215cc3b5",
   "metadata": {},
   "source": [
    "\n",
    "#### Creating step: ``lemmatize_corpus`` <a class=\"anchor\" id=\"execution_stage_1_lemmatize_corpus\"></a>"
   ]
  },
  {
   "cell_type": "code",
   "execution_count": null,
   "id": "4640894e",
   "metadata": {
    "lines_to_next_cell": 2
   },
   "outputs": [],
   "source": [
    "step_lemmatize_corpus = Step(\"language.lemmatize.tokens_array\", step_id=\"lemmatize_corpus\")\n",
    "step_lemmatize_corpus.info"
   ]
  },
  {
   "cell_type": "markdown",
   "id": "5d297b07",
   "metadata": {
    "lines_to_next_cell": 0
   },
   "source": [
    "### Execution stage: 10 <a class=\"anchor\" id=\"execution_stage_10\"></a>"
   ]
  },
  {
   "cell_type": "markdown",
   "id": "7503ab7f",
   "metadata": {},
   "source": [
    "\n",
    "#### Creating step: ``generate_lda`` <a class=\"anchor\" id=\"execution_stage_1_generate_lda\"></a>"
   ]
  },
  {
   "cell_type": "code",
   "execution_count": null,
   "id": "41199b2a",
   "metadata": {},
   "outputs": [],
   "source": [
    "step_generate_lda = Step(\"language.lda.LDA\", step_id=\"generate_lda\")\n",
    "step_generate_lda.info"
   ]
  },
  {
   "cell_type": "markdown",
   "id": "02eecb81",
   "metadata": {
    "lines_to_next_cell": 2
   },
   "source": [
    "\n",
    "## Connecting the workflow steps <a class=\"anchor\" id=\"connecting_steps\"></a>\n",
    "\n",
    "After we all steps are created, we need to wire them up to create our workflow structure. All step inputs that are not\n",
    "connected to other step outputs are considered user inputs, and, if their values are marked as 'required', must be set\n",
    "later in order for our workflow to run successfully."
   ]
  },
  {
   "cell_type": "markdown",
   "id": "104e9945",
   "metadata": {},
   "source": [
    "#### Connecting inputs for: ``create_table_from_csvs``"
   ]
  },
  {
   "cell_type": "code",
   "execution_count": null,
   "id": "209ad598",
   "metadata": {
    "lines_to_next_cell": 2
   },
   "outputs": [],
   "source": [
    "step_create_table_from_csvs.input.files = step_read_files_in_folder.output.file_bundle"
   ]
  },
  {
   "cell_type": "markdown",
   "id": "c7ebeed7",
   "metadata": {},
   "source": [
    "#### Connecting inputs for: ``extract_date_from_file_name``"
   ]
  },
  {
   "cell_type": "code",
   "execution_count": null,
   "id": "73680466",
   "metadata": {
    "lines_to_next_cell": 2
   },
   "outputs": [],
   "source": [
    "step_extract_date_from_file_name.input.array = step_create_table_from_csvs.output.table.file_name"
   ]
  },
  {
   "cell_type": "markdown",
   "id": "a75087d2",
   "metadata": {},
   "source": [
    "#### Connecting inputs for: ``extract_ref_from_file_name``"
   ]
  },
  {
   "cell_type": "code",
   "execution_count": null,
   "id": "920b6983",
   "metadata": {
    "lines_to_next_cell": 2
   },
   "outputs": [],
   "source": [
    "step_extract_ref_from_file_name.input.array = step_create_table_from_csvs.output.table.file_name"
   ]
  },
  {
   "cell_type": "markdown",
   "id": "d6d4e271",
   "metadata": {},
   "source": [
    "#### Connecting inputs for: ``lookup_publication_name``"
   ]
  },
  {
   "cell_type": "code",
   "execution_count": null,
   "id": "87fb4e5e",
   "metadata": {
    "lines_to_next_cell": 2
   },
   "outputs": [],
   "source": [
    "step_lookup_publication_name.input.array = step_extract_ref_from_file_name.output.array"
   ]
  },
  {
   "cell_type": "markdown",
   "id": "84ba0d64",
   "metadata": {},
   "source": [
    "#### Connecting inputs for: ``create_date_range_filter``"
   ]
  },
  {
   "cell_type": "code",
   "execution_count": null,
   "id": "1d7d573b",
   "metadata": {
    "lines_to_next_cell": 2
   },
   "outputs": [],
   "source": [
    "step_create_date_range_filter.input.array = step_extract_date_from_file_name.output.array"
   ]
  },
  {
   "cell_type": "markdown",
   "id": "dca50c3d",
   "metadata": {},
   "source": [
    "#### Connecting inputs for: ``merged_table``"
   ]
  },
  {
   "cell_type": "code",
   "execution_count": null,
   "id": "f99a9680",
   "metadata": {
    "lines_to_next_cell": 2
   },
   "outputs": [],
   "source": [
    "\n",
    "step_merged_table.input.sources = [\n",
    "    step_create_table_from_csvs.output.table,\n",
    "    step_extract_date_from_file_name.output.array,\n",
    "    step_extract_ref_from_file_name.output.array,\n",
    "    step_lookup_publication_name.output.array,\n",
    "]"
   ]
  },
  {
   "cell_type": "markdown",
   "id": "8b7a1a09",
   "metadata": {},
   "source": [
    "#### Connecting inputs for: ``filtered_table``"
   ]
  },
  {
   "cell_type": "code",
   "execution_count": null,
   "id": "c1312a8e",
   "metadata": {},
   "outputs": [],
   "source": [
    "step_filtered_table.input.table = step_merged_table.output.table"
   ]
  },
  {
   "cell_type": "code",
   "execution_count": null,
   "id": "3c640ea3",
   "metadata": {
    "lines_to_next_cell": 2
   },
   "outputs": [],
   "source": [
    "step_filtered_table.input.mask = step_create_date_range_filter.output.array"
   ]
  },
  {
   "cell_type": "markdown",
   "id": "e9727a57",
   "metadata": {},
   "source": [
    "#### Connecting inputs for: ``tokenize_text_corpus``"
   ]
  },
  {
   "cell_type": "code",
   "execution_count": null,
   "id": "328afa69",
   "metadata": {
    "lines_to_next_cell": 2
   },
   "outputs": [],
   "source": [
    "step_tokenize_text_corpus.input.array = step_filtered_table.output.table.content"
   ]
  },
  {
   "cell_type": "markdown",
   "id": "b30db085",
   "metadata": {},
   "source": [
    "#### Connecting inputs for: ``remove_stopwords``"
   ]
  },
  {
   "cell_type": "code",
   "execution_count": null,
   "id": "01ddc926",
   "metadata": {
    "lines_to_next_cell": 2
   },
   "outputs": [],
   "source": [
    "step_remove_stopwords.input.token_lists = step_tokenize_text_corpus.output.array"
   ]
  },
  {
   "cell_type": "markdown",
   "id": "54348527",
   "metadata": {},
   "source": [
    "#### Connecting inputs for: ``lemmatize_corpus``"
   ]
  },
  {
   "cell_type": "code",
   "execution_count": null,
   "id": "2234b47c",
   "metadata": {
    "lines_to_next_cell": 2
   },
   "outputs": [],
   "source": [
    "step_lemmatize_corpus.input.tokens_array = step_remove_stopwords.output.token_list"
   ]
  },
  {
   "cell_type": "markdown",
   "id": "46d39275",
   "metadata": {},
   "source": [
    "#### Connecting inputs for: ``generate_lda``"
   ]
  },
  {
   "cell_type": "code",
   "execution_count": null,
   "id": "a9c250ce",
   "metadata": {
    "lines_to_next_cell": 2
   },
   "outputs": [],
   "source": [
    "step_generate_lda.input.tokens_array = step_lemmatize_corpus.output.tokens_array"
   ]
  },
  {
   "cell_type": "markdown",
   "id": "7ac62586",
   "metadata": {},
   "source": [
    "# Workflow information <a class=\"anchor\" id=\"workflow_info\"></a>\n",
    "\n",
    "After our workflow is wired up, we look can look at its structure, and other properties.\n",
    "For that, we need to retrieve the dynamically assembled workflow object. We could do this from every one of the workflow steps,\n",
    "since they all share the same workflow:"
   ]
  },
  {
   "cell_type": "code",
   "execution_count": null,
   "id": "6b42061d",
   "metadata": {},
   "outputs": [],
   "source": [
    "workflow = step_generate_lda.workflow"
   ]
  },
  {
   "cell_type": "markdown",
   "id": "a917ab92",
   "metadata": {},
   "source": [
    "## Workflow execution graph\n",
    "\n",
    "Let's look at the current execution graph for our workflow:"
   ]
  },
  {
   "cell_type": "code",
   "execution_count": null,
   "id": "e3081fab",
   "metadata": {},
   "outputs": [],
   "source": [
    "graph_to_image(workflow.structure.execution_graph)"
   ]
  },
  {
   "cell_type": "markdown",
   "id": "22950bbf",
   "metadata": {},
   "source": [
    "# Setting workflow inputs <a class=\"anchor\" id=\"workflow_inputs\"></a>\n",
    "\n",
    "The final step before running the workflow, is to set input values:"
   ]
  },
  {
   "cell_type": "code",
   "execution_count": null,
   "id": "364807ea",
   "metadata": {
    "lines_to_next_cell": 0
   },
   "outputs": [],
   "source": [
    "\n",
    "step_read_files_in_folder.input.path = \"/home/markus/projects/dharpa/notebooks/TopicModelling/data_tm_workflow\"\n",
    "step_create_date_range_filter.input.earliest = \"1919-01-01\"\n",
    "step_create_date_range_filter.input.latest = \"2000-01-01\"\n",
    "step_remove_stopwords.input.languages = ['italian', 'german']\n",
    "step_generate_lda.input.compute_coherence = True"
   ]
  },
  {
   "cell_type": "markdown",
   "id": "7b5ee8d4",
   "metadata": {},
   "source": [
    "# Workflow results <a class=\"anchor\" id=\"workflow_results\"></a>\n",
    "\n",
    "We don't need to explicitly run the workflow, since our workflow object is smart enough to process the required steps\n",
    "for the outputs we request. But we can do it nonetheless, because it helps us debug any issues there might be by printing\n",
    "out the current workflow state:"
   ]
  },
  {
   "cell_type": "code",
   "execution_count": null,
   "id": "3e5ec0c8",
   "metadata": {},
   "outputs": [],
   "source": [
    "\n",
    "workflow.process()\n",
    "workflow"
   ]
  },
  {
   "cell_type": "markdown",
   "id": "08dd15bb",
   "metadata": {
    "lines_to_next_cell": 0
   },
   "source": [
    "### Outputs for step: ``read_files_in_folder`` <a class=\"anchor\" id=\"outputs_stage_1_read_files_in_folder\"></a>\n",
    "\n",
    "### Output: ``file_bundle``\n",
    "#### Value metadata"
   ]
  },
  {
   "cell_type": "code",
   "execution_count": null,
   "id": "6a4f354e",
   "metadata": {
    "lines_to_next_cell": 0
   },
   "outputs": [],
   "source": [
    "step_read_files_in_folder.output.file_bundle.value"
   ]
  },
  {
   "cell_type": "markdown",
   "id": "80d7b6c0",
   "metadata": {
    "lines_to_next_cell": 0
   },
   "source": [
    "#### Value data"
   ]
  },
  {
   "cell_type": "code",
   "execution_count": null,
   "id": "40573ef4",
   "metadata": {
    "lines_to_next_cell": 0
   },
   "outputs": [],
   "source": [
    "kiara.pretty_print(step_read_files_in_folder.output.file_bundle.data)"
   ]
  },
  {
   "cell_type": "markdown",
   "id": "7e98ee3a",
   "metadata": {
    "lines_to_next_cell": 0
   },
   "source": [
    "### Outputs for step: ``create_table_from_csvs`` <a class=\"anchor\" id=\"outputs_stage_1_create_table_from_csvs\"></a>\n",
    "\n",
    "### Output: ``table``\n",
    "#### Value metadata"
   ]
  },
  {
   "cell_type": "code",
   "execution_count": null,
   "id": "24ee4a66",
   "metadata": {
    "lines_to_next_cell": 0
   },
   "outputs": [],
   "source": [
    "step_create_table_from_csvs.output.table.value"
   ]
  },
  {
   "cell_type": "markdown",
   "id": "a4030cd7",
   "metadata": {
    "lines_to_next_cell": 0
   },
   "source": [
    "#### Value data"
   ]
  },
  {
   "cell_type": "code",
   "execution_count": null,
   "id": "bc6a03db",
   "metadata": {
    "lines_to_next_cell": 0
   },
   "outputs": [],
   "source": [
    "kiara.pretty_print(step_create_table_from_csvs.output.table.data)"
   ]
  },
  {
   "cell_type": "markdown",
   "id": "12afde1a",
   "metadata": {
    "lines_to_next_cell": 0
   },
   "source": [
    "### Outputs for step: ``extract_date_from_file_name`` <a class=\"anchor\" id=\"outputs_stage_1_extract_date_from_file_name\"></a>\n",
    "\n",
    "### Output: ``array``\n",
    "#### Value metadata"
   ]
  },
  {
   "cell_type": "code",
   "execution_count": null,
   "id": "5748835c",
   "metadata": {
    "lines_to_next_cell": 0
   },
   "outputs": [],
   "source": [
    "step_extract_date_from_file_name.output.array.value"
   ]
  },
  {
   "cell_type": "markdown",
   "id": "05cdde8b",
   "metadata": {
    "lines_to_next_cell": 0
   },
   "source": [
    "#### Value data"
   ]
  },
  {
   "cell_type": "code",
   "execution_count": null,
   "id": "a5f8b7a2",
   "metadata": {
    "lines_to_next_cell": 0
   },
   "outputs": [],
   "source": [
    "kiara.pretty_print(step_extract_date_from_file_name.output.array.data)"
   ]
  },
  {
   "cell_type": "markdown",
   "id": "029dcd90",
   "metadata": {
    "lines_to_next_cell": 0
   },
   "source": [
    "### Outputs for step: ``extract_ref_from_file_name`` <a class=\"anchor\" id=\"outputs_stage_2_extract_ref_from_file_name\"></a>\n",
    "\n",
    "### Output: ``array``\n",
    "#### Value metadata"
   ]
  },
  {
   "cell_type": "code",
   "execution_count": null,
   "id": "a4b847d8",
   "metadata": {
    "lines_to_next_cell": 0
   },
   "outputs": [],
   "source": [
    "step_extract_ref_from_file_name.output.array.value"
   ]
  },
  {
   "cell_type": "markdown",
   "id": "19cdce1a",
   "metadata": {
    "lines_to_next_cell": 0
   },
   "source": [
    "#### Value data"
   ]
  },
  {
   "cell_type": "code",
   "execution_count": null,
   "id": "d8100d2a",
   "metadata": {
    "lines_to_next_cell": 0
   },
   "outputs": [],
   "source": [
    "kiara.pretty_print(step_extract_ref_from_file_name.output.array.data)"
   ]
  },
  {
   "cell_type": "markdown",
   "id": "9cd9e795",
   "metadata": {
    "lines_to_next_cell": 0
   },
   "source": [
    "### Outputs for step: ``lookup_publication_name`` <a class=\"anchor\" id=\"outputs_stage_1_lookup_publication_name\"></a>\n",
    "\n",
    "### Output: ``array``\n",
    "#### Value metadata"
   ]
  },
  {
   "cell_type": "code",
   "execution_count": null,
   "id": "6c73d433",
   "metadata": {
    "lines_to_next_cell": 0
   },
   "outputs": [],
   "source": [
    "step_lookup_publication_name.output.array.value"
   ]
  },
  {
   "cell_type": "markdown",
   "id": "6901a66b",
   "metadata": {
    "lines_to_next_cell": 0
   },
   "source": [
    "#### Value data"
   ]
  },
  {
   "cell_type": "code",
   "execution_count": null,
   "id": "5e5b915c",
   "metadata": {
    "lines_to_next_cell": 0
   },
   "outputs": [],
   "source": [
    "kiara.pretty_print(step_lookup_publication_name.output.array.data)"
   ]
  },
  {
   "cell_type": "markdown",
   "id": "37cd4fce",
   "metadata": {
    "lines_to_next_cell": 0
   },
   "source": [
    "### Outputs for step: ``create_date_range_filter`` <a class=\"anchor\" id=\"outputs_stage_2_create_date_range_filter\"></a>\n",
    "\n",
    "### Output: ``array``\n",
    "#### Value metadata"
   ]
  },
  {
   "cell_type": "code",
   "execution_count": null,
   "id": "d0c27433",
   "metadata": {
    "lines_to_next_cell": 0
   },
   "outputs": [],
   "source": [
    "step_create_date_range_filter.output.array.value"
   ]
  },
  {
   "cell_type": "markdown",
   "id": "30351b2f",
   "metadata": {
    "lines_to_next_cell": 0
   },
   "source": [
    "#### Value data"
   ]
  },
  {
   "cell_type": "code",
   "execution_count": null,
   "id": "2c68948b",
   "metadata": {
    "lines_to_next_cell": 0
   },
   "outputs": [],
   "source": [
    "kiara.pretty_print(step_create_date_range_filter.output.array.data)"
   ]
  },
  {
   "cell_type": "markdown",
   "id": "72bd53a6",
   "metadata": {
    "lines_to_next_cell": 0
   },
   "source": [
    "### Outputs for step: ``merged_table`` <a class=\"anchor\" id=\"outputs_stage_1_merged_table\"></a>\n",
    "\n",
    "### Output: ``table``\n",
    "#### Value metadata"
   ]
  },
  {
   "cell_type": "code",
   "execution_count": null,
   "id": "da7f97ae",
   "metadata": {
    "lines_to_next_cell": 0
   },
   "outputs": [],
   "source": [
    "step_merged_table.output.table.value"
   ]
  },
  {
   "cell_type": "markdown",
   "id": "0f35f7ce",
   "metadata": {
    "lines_to_next_cell": 0
   },
   "source": [
    "#### Value data"
   ]
  },
  {
   "cell_type": "code",
   "execution_count": null,
   "id": "f292c83e",
   "metadata": {
    "lines_to_next_cell": 0
   },
   "outputs": [],
   "source": [
    "kiara.pretty_print(step_merged_table.output.table.data)"
   ]
  },
  {
   "cell_type": "markdown",
   "id": "3b6d8a89",
   "metadata": {
    "lines_to_next_cell": 0
   },
   "source": [
    "### Outputs for step: ``filtered_table`` <a class=\"anchor\" id=\"outputs_stage_1_filtered_table\"></a>\n",
    "\n",
    "### Output: ``table``\n",
    "#### Value metadata"
   ]
  },
  {
   "cell_type": "code",
   "execution_count": null,
   "id": "cf64aab5",
   "metadata": {
    "lines_to_next_cell": 0
   },
   "outputs": [],
   "source": [
    "step_filtered_table.output.table.value"
   ]
  },
  {
   "cell_type": "markdown",
   "id": "f16eac75",
   "metadata": {
    "lines_to_next_cell": 0
   },
   "source": [
    "#### Value data"
   ]
  },
  {
   "cell_type": "code",
   "execution_count": null,
   "id": "497cddce",
   "metadata": {
    "lines_to_next_cell": 0
   },
   "outputs": [],
   "source": [
    "kiara.pretty_print(step_filtered_table.output.table.data)"
   ]
  },
  {
   "cell_type": "markdown",
   "id": "83953689",
   "metadata": {
    "lines_to_next_cell": 0
   },
   "source": [
    "### Outputs for step: ``tokenize_text_corpus`` <a class=\"anchor\" id=\"outputs_stage_1_tokenize_text_corpus\"></a>\n",
    "\n",
    "### Output: ``array``\n",
    "#### Value metadata"
   ]
  },
  {
   "cell_type": "code",
   "execution_count": null,
   "id": "b1ceb38f",
   "metadata": {
    "lines_to_next_cell": 0
   },
   "outputs": [],
   "source": [
    "step_tokenize_text_corpus.output.array.value"
   ]
  },
  {
   "cell_type": "markdown",
   "id": "8fd779eb",
   "metadata": {
    "lines_to_next_cell": 0
   },
   "source": [
    "#### Value data"
   ]
  },
  {
   "cell_type": "code",
   "execution_count": null,
   "id": "aff9305b",
   "metadata": {
    "lines_to_next_cell": 0
   },
   "outputs": [],
   "source": [
    "kiara.pretty_print(step_tokenize_text_corpus.output.array.data)"
   ]
  },
  {
   "cell_type": "markdown",
   "id": "c3d14de6",
   "metadata": {
    "lines_to_next_cell": 0
   },
   "source": [
    "### Outputs for step: ``remove_stopwords`` <a class=\"anchor\" id=\"outputs_stage_1_remove_stopwords\"></a>\n",
    "\n",
    "### Output: ``token_list``\n",
    "#### Value metadata"
   ]
  },
  {
   "cell_type": "code",
   "execution_count": null,
   "id": "fd128c01",
   "metadata": {
    "lines_to_next_cell": 0
   },
   "outputs": [],
   "source": [
    "step_remove_stopwords.output.token_list.value"
   ]
  },
  {
   "cell_type": "markdown",
   "id": "99636004",
   "metadata": {
    "lines_to_next_cell": 0
   },
   "source": [
    "#### Value data"
   ]
  },
  {
   "cell_type": "code",
   "execution_count": null,
   "id": "b3572268",
   "metadata": {
    "lines_to_next_cell": 0
   },
   "outputs": [],
   "source": [
    "kiara.pretty_print(step_remove_stopwords.output.token_list.data)"
   ]
  },
  {
   "cell_type": "markdown",
   "id": "56ca97f5",
   "metadata": {
    "lines_to_next_cell": 0
   },
   "source": [
    "### Outputs for step: ``lemmatize_corpus`` <a class=\"anchor\" id=\"outputs_stage_1_lemmatize_corpus\"></a>\n",
    "\n",
    "### Output: ``tokens_array``\n",
    "#### Value metadata"
   ]
  },
  {
   "cell_type": "code",
   "execution_count": null,
   "id": "d6b26d87",
   "metadata": {
    "lines_to_next_cell": 0
   },
   "outputs": [],
   "source": [
    "step_lemmatize_corpus.output.tokens_array.value"
   ]
  },
  {
   "cell_type": "markdown",
   "id": "0744e9a9",
   "metadata": {
    "lines_to_next_cell": 0
   },
   "source": [
    "#### Value data"
   ]
  },
  {
   "cell_type": "code",
   "execution_count": null,
   "id": "e0a2028a",
   "metadata": {
    "lines_to_next_cell": 0
   },
   "outputs": [],
   "source": [
    "kiara.pretty_print(step_lemmatize_corpus.output.tokens_array.data)"
   ]
  },
  {
   "cell_type": "markdown",
   "id": "b0d68f77",
   "metadata": {
    "lines_to_next_cell": 0
   },
   "source": [
    "### Outputs for step: ``generate_lda`` <a class=\"anchor\" id=\"outputs_stage_1_generate_lda\"></a>\n",
    "\n",
    "### Output: ``topic_model``\n",
    "#### Value metadata"
   ]
  },
  {
   "cell_type": "code",
   "execution_count": null,
   "id": "fca64c11",
   "metadata": {
    "lines_to_next_cell": 0
   },
   "outputs": [],
   "source": [
    "step_generate_lda.output.topic_model.value"
   ]
  },
  {
   "cell_type": "markdown",
   "id": "88959baf",
   "metadata": {
    "lines_to_next_cell": 0
   },
   "source": [
    "#### Value data"
   ]
  },
  {
   "cell_type": "code",
   "execution_count": null,
   "id": "89423ee1",
   "metadata": {},
   "outputs": [],
   "source": [
    "kiara.pretty_print(step_generate_lda.output.topic_model.data)"
   ]
  }
 ],
 "metadata": {
  "jupytext": {
   "cell_markers": "region,endregion",
   "formats": "ipynb,.pct.py:percent,.lgt.py:light,.spx.py:sphinx,md,Rmd,.pandoc.md:pandoc"
  },
  "kernelspec": {
   "display_name": "Python 3",
   "language": "python",
   "name": "python3"
  }
 },
 "nbformat": 4,
 "nbformat_minor": 5
}
