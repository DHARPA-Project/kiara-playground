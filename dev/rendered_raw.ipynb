{
 "cells": [
  {
   "cell_type": "code",
   "execution_count": null,
   "id": "29ff9dec",
   "metadata": {
    "lines_to_next_cell": 2
   },
   "outputs": [],
   "source": [
    "import kiara\n",
    "from kiara.interfaces.python_api import Step\n",
    "from kiara.utils.jupyter import graph_to_image"
   ]
  },
  {
   "cell_type": "markdown",
   "id": "8e1962d5",
   "metadata": {
    "lines_to_next_cell": 0
   },
   "source": [
    "# Table of contents\n",
    "* [Assembling the workflow](#assembly)\n",
    "    * [Creating the steps of the workflow](#creating_steps)\n",
    "        * [Execution stage: 1](#execution_stage_1)\n",
    "            - [Step: ``read_files_in_folder``](#execution_stage_1_read_files_in_folder)\n",
    "        * [Execution stage: 2](#execution_stage_2)\n",
    "            - [Step: ``create_table_from_csvs``](#execution_stage_1_create_table_from_csvs)\n",
    "        * [Execution stage: 3](#execution_stage_3)\n",
    "            - [Step: ``extract_date_from_file_name``](#execution_stage_1_extract_date_from_file_name)\n",
    "            - [Step: ``extract_ref_from_file_name``](#execution_stage_2_extract_ref_from_file_name)\n",
    "        * [Execution stage: 4](#execution_stage_4)\n",
    "            - [Step: ``lookup_publication_name``](#execution_stage_1_lookup_publication_name)\n",
    "            - [Step: ``create_date_range_filter``](#execution_stage_2_create_date_range_filter)\n",
    "        * [Execution stage: 5](#execution_stage_5)\n",
    "            - [Step: ``merged_table``](#execution_stage_1_merged_table)\n",
    "        * [Execution stage: 6](#execution_stage_6)\n",
    "            - [Step: ``filtered_table``](#execution_stage_1_filtered_table)\n",
    "        * [Execution stage: 7](#execution_stage_7)\n",
    "            - [Step: ``tokenize_text_corpus``](#execution_stage_1_tokenize_text_corpus)\n",
    "        * [Execution stage: 8](#execution_stage_8)\n",
    "            - [Step: ``remove_stopwords``](#execution_stage_1_remove_stopwords)\n",
    "        * [Execution stage: 9](#execution_stage_9)\n",
    "            - [Step: ``lemmatize_corpus``](#execution_stage_1_lemmatize_corpus)\n",
    "        * [Execution stage: 10](#execution_stage_10)\n",
    "            - [Step: ``generate_lda``](#execution_stage_1_generate_lda)\n",
    "    * [Connecting the workflow steps](#connecting_steps)\n",
    "* [Workflow information](#workflow_info)\n",
    "* [Setting workflow inputs](#workflow_inputs)\n",
    "* [Workflow results](#workflow_results)\n",
    "    - [Step: ``read_files_in_folder``](#output_stage_1_read_files_in_folder)\n",
    "    - [Step: ``create_table_from_csvs``](#output_stage_1_create_table_from_csvs)\n",
    "    - [Step: ``extract_date_from_file_name``](#output_stage_1_extract_date_from_file_name)\n",
    "    - [Step: ``extract_ref_from_file_name``](#output_stage_2_extract_ref_from_file_name)\n",
    "    - [Step: ``lookup_publication_name``](#output_stage_1_lookup_publication_name)\n",
    "    - [Step: ``create_date_range_filter``](#output_stage_2_create_date_range_filter)\n",
    "    - [Step: ``merged_table``](#output_stage_1_merged_table)\n",
    "    - [Step: ``filtered_table``](#output_stage_1_filtered_table)\n",
    "    - [Step: ``tokenize_text_corpus``](#output_stage_1_tokenize_text_corpus)\n",
    "    - [Step: ``remove_stopwords``](#output_stage_1_remove_stopwords)\n",
    "    - [Step: ``lemmatize_corpus``](#output_stage_1_lemmatize_corpus)\n",
    "    - [Step: ``generate_lda``](#output_stage_1_generate_lda)"
   ]
  },
  {
   "cell_type": "markdown",
   "id": "c2977946",
   "metadata": {
    "lines_to_next_cell": 2
   },
   "source": [
    "# Assembling the workflow <a class=\"anchor\" id=\"assembly\"></a>\n",
    "\n",
    "The first step in the creation of our workflow is to create the individual steps from the available *kiara* modules.\n",
    "\n",
    "A list of available modules and their aliases can be found here: TODO\n",
    "\n",
    "## Creating the steps of the workflow <a class=\"anchor\" id=\"creating_steps\"></a>"
   ]
  },
  {
   "cell_type": "markdown",
   "id": "bfa69ed2",
   "metadata": {
    "lines_to_next_cell": 0
   },
   "source": [
    "### Execution stage: 1 <a class=\"anchor\" id=\"execution_stage_1\"></a>"
   ]
  },
  {
   "cell_type": "markdown",
   "id": "2450df24",
   "metadata": {},
   "source": [
    "\n",
    "#### Creating step: ``read_files_in_folder`` <a class=\"anchor\" id=\"execution_stage_1_read_files_in_folder\"></a>"
   ]
  },
  {
   "cell_type": "code",
   "execution_count": null,
   "id": "5fc27b4a",
   "metadata": {
    "lines_to_next_cell": 2
   },
   "outputs": [],
   "source": [
    "step_read_files_in_folder = Step(\"onboarding.folder.import\", step_id=\"read_files_in_folder\")\n",
    "step_read_files_in_folder.info"
   ]
  },
  {
   "cell_type": "markdown",
   "id": "8c77d228",
   "metadata": {
    "lines_to_next_cell": 0
   },
   "source": [
    "### Execution stage: 2 <a class=\"anchor\" id=\"execution_stage_2\"></a>"
   ]
  },
  {
   "cell_type": "markdown",
   "id": "0a7e07a8",
   "metadata": {},
   "source": [
    "\n",
    "#### Creating step: ``create_table_from_csvs`` <a class=\"anchor\" id=\"execution_stage_1_create_table_from_csvs\"></a>"
   ]
  },
  {
   "cell_type": "code",
   "execution_count": null,
   "id": "66858ad6",
   "metadata": {
    "lines_to_next_cell": 2
   },
   "outputs": [],
   "source": [
    "step_create_table_from_csvs_config = {'columns': ['id', 'rel_path', 'file_name', 'content']}\n",
    "step_create_table_from_csvs = Step(\n",
    "    \"table.from_file_bundle\",\n",
    "    module_config=step_create_table_from_csvs_config,\n",
    "    step_id=\"create_table_from_csvs\")\n",
    "step_create_table_from_csvs.info"
   ]
  },
  {
   "cell_type": "markdown",
   "id": "57a3d0f0",
   "metadata": {
    "lines_to_next_cell": 0
   },
   "source": [
    "### Execution stage: 3 <a class=\"anchor\" id=\"execution_stage_3\"></a>"
   ]
  },
  {
   "cell_type": "markdown",
   "id": "a56d79d7",
   "metadata": {},
   "source": [
    "\n",
    "#### Creating step: ``extract_date_from_file_name`` <a class=\"anchor\" id=\"execution_stage_1_extract_date_from_file_name\"></a>"
   ]
  },
  {
   "cell_type": "code",
   "execution_count": null,
   "id": "7bcbc717",
   "metadata": {},
   "outputs": [],
   "source": [
    "step_extract_date_from_file_name_config = {'module_type': 'date.extract_from_string'}\n",
    "step_extract_date_from_file_name = Step(\n",
    "    \"array.map\",\n",
    "    module_config=step_extract_date_from_file_name_config,\n",
    "    step_id=\"extract_date_from_file_name\")\n",
    "step_extract_date_from_file_name.info"
   ]
  },
  {
   "cell_type": "markdown",
   "id": "f3155d53",
   "metadata": {},
   "source": [
    "\n",
    "#### Creating step: ``extract_ref_from_file_name`` <a class=\"anchor\" id=\"execution_stage_2_extract_ref_from_file_name\"></a>"
   ]
  },
  {
   "cell_type": "code",
   "execution_count": null,
   "id": "b223b304",
   "metadata": {
    "lines_to_next_cell": 2
   },
   "outputs": [],
   "source": [
    "step_extract_ref_from_file_name_config = {'module_type': 'string.match_regex', 'module_config': {'regex': '(\\\\w+\\\\d+)_\\\\d{4}-\\\\d{2}-\\\\d{2}_', 'only_first_match': True}}\n",
    "step_extract_ref_from_file_name = Step(\n",
    "    \"array.map\",\n",
    "    module_config=step_extract_ref_from_file_name_config,\n",
    "    step_id=\"extract_ref_from_file_name\")\n",
    "step_extract_ref_from_file_name.info"
   ]
  },
  {
   "cell_type": "markdown",
   "id": "02b60023",
   "metadata": {
    "lines_to_next_cell": 0
   },
   "source": [
    "### Execution stage: 4 <a class=\"anchor\" id=\"execution_stage_4\"></a>"
   ]
  },
  {
   "cell_type": "markdown",
   "id": "24e452ef",
   "metadata": {},
   "source": [
    "\n",
    "#### Creating step: ``lookup_publication_name`` <a class=\"anchor\" id=\"execution_stage_1_lookup_publication_name\"></a>"
   ]
  },
  {
   "cell_type": "code",
   "execution_count": null,
   "id": "a7d45011",
   "metadata": {},
   "outputs": [],
   "source": [
    "step_lookup_publication_name_config = {'module_type': 'string.replace', 'module_config': {'replacement_map': {'sn85066408': \"L\\\\'Italia\", '2012271201': 'Cronaca Sovversiva'}}}\n",
    "step_lookup_publication_name = Step(\n",
    "    \"array.map\",\n",
    "    module_config=step_lookup_publication_name_config,\n",
    "    step_id=\"lookup_publication_name\")\n",
    "step_lookup_publication_name.info"
   ]
  },
  {
   "cell_type": "markdown",
   "id": "e3cc35a8",
   "metadata": {},
   "source": [
    "\n",
    "#### Creating step: ``create_date_range_filter`` <a class=\"anchor\" id=\"execution_stage_2_create_date_range_filter\"></a>"
   ]
  },
  {
   "cell_type": "code",
   "execution_count": null,
   "id": "8adf8667",
   "metadata": {
    "lines_to_next_cell": 2
   },
   "outputs": [],
   "source": [
    "step_create_date_range_filter_config = {'module_type': 'date.range_check', 'input_name': 'date'}\n",
    "step_create_date_range_filter = Step(\n",
    "    \"array.map\",\n",
    "    module_config=step_create_date_range_filter_config,\n",
    "    step_id=\"create_date_range_filter\")\n",
    "step_create_date_range_filter.info"
   ]
  },
  {
   "cell_type": "markdown",
   "id": "5ea27fb1",
   "metadata": {
    "lines_to_next_cell": 0
   },
   "source": [
    "### Execution stage: 5 <a class=\"anchor\" id=\"execution_stage_5\"></a>"
   ]
  },
  {
   "cell_type": "markdown",
   "id": "91a99420",
   "metadata": {},
   "source": [
    "\n",
    "#### Creating step: ``merged_table`` <a class=\"anchor\" id=\"execution_stage_1_merged_table\"></a>"
   ]
  },
  {
   "cell_type": "code",
   "execution_count": null,
   "id": "6ce9fa80",
   "metadata": {
    "lines_to_next_cell": 2
   },
   "outputs": [],
   "source": [
    "step_merged_table = Step(\"table.merge\", step_id=\"merged_table\")\n",
    "step_merged_table.info"
   ]
  },
  {
   "cell_type": "markdown",
   "id": "51d0650a",
   "metadata": {
    "lines_to_next_cell": 0
   },
   "source": [
    "### Execution stage: 6 <a class=\"anchor\" id=\"execution_stage_6\"></a>"
   ]
  },
  {
   "cell_type": "markdown",
   "id": "2e581a05",
   "metadata": {},
   "source": [
    "\n",
    "#### Creating step: ``filtered_table`` <a class=\"anchor\" id=\"execution_stage_1_filtered_table\"></a>"
   ]
  },
  {
   "cell_type": "code",
   "execution_count": null,
   "id": "81ea05db",
   "metadata": {
    "lines_to_next_cell": 2
   },
   "outputs": [],
   "source": [
    "step_filtered_table = Step(\"table.filter.with_mask\", step_id=\"filtered_table\")\n",
    "step_filtered_table.info"
   ]
  },
  {
   "cell_type": "markdown",
   "id": "64e60ff2",
   "metadata": {
    "lines_to_next_cell": 0
   },
   "source": [
    "### Execution stage: 7 <a class=\"anchor\" id=\"execution_stage_7\"></a>"
   ]
  },
  {
   "cell_type": "markdown",
   "id": "c40fe0a7",
   "metadata": {},
   "source": [
    "\n",
    "#### Creating step: ``tokenize_text_corpus`` <a class=\"anchor\" id=\"execution_stage_1_tokenize_text_corpus\"></a>"
   ]
  },
  {
   "cell_type": "code",
   "execution_count": null,
   "id": "a69f0c24",
   "metadata": {
    "lines_to_next_cell": 2
   },
   "outputs": [],
   "source": [
    "step_tokenize_text_corpus_config = {'module_type': 'language.tokens.tokenize_text', 'input_name': 'text'}\n",
    "step_tokenize_text_corpus = Step(\n",
    "    \"array.map\",\n",
    "    module_config=step_tokenize_text_corpus_config,\n",
    "    step_id=\"tokenize_text_corpus\")\n",
    "step_tokenize_text_corpus.info"
   ]
  },
  {
   "cell_type": "markdown",
   "id": "eddb7259",
   "metadata": {
    "lines_to_next_cell": 0
   },
   "source": [
    "### Execution stage: 8 <a class=\"anchor\" id=\"execution_stage_8\"></a>"
   ]
  },
  {
   "cell_type": "markdown",
   "id": "2f13a344",
   "metadata": {},
   "source": [
    "\n",
    "#### Creating step: ``remove_stopwords`` <a class=\"anchor\" id=\"execution_stage_1_remove_stopwords\"></a>"
   ]
  },
  {
   "cell_type": "code",
   "execution_count": null,
   "id": "5393cfca",
   "metadata": {
    "lines_to_next_cell": 2
   },
   "outputs": [],
   "source": [
    "step_remove_stopwords = Step(\"language.tokens.remove_stopwords\", step_id=\"remove_stopwords\")\n",
    "step_remove_stopwords.info"
   ]
  },
  {
   "cell_type": "markdown",
   "id": "a4e551ea",
   "metadata": {
    "lines_to_next_cell": 0
   },
   "source": [
    "### Execution stage: 9 <a class=\"anchor\" id=\"execution_stage_9\"></a>"
   ]
  },
  {
   "cell_type": "markdown",
   "id": "41b6724d",
   "metadata": {},
   "source": [
    "\n",
    "#### Creating step: ``lemmatize_corpus`` <a class=\"anchor\" id=\"execution_stage_1_lemmatize_corpus\"></a>"
   ]
  },
  {
   "cell_type": "code",
   "execution_count": null,
   "id": "4cc41db6",
   "metadata": {
    "lines_to_next_cell": 2
   },
   "outputs": [],
   "source": [
    "step_lemmatize_corpus = Step(\"language.lemmatize.tokens_array\", step_id=\"lemmatize_corpus\")\n",
    "step_lemmatize_corpus.info"
   ]
  },
  {
   "cell_type": "markdown",
   "id": "f06db2bc",
   "metadata": {
    "lines_to_next_cell": 0
   },
   "source": [
    "### Execution stage: 10 <a class=\"anchor\" id=\"execution_stage_10\"></a>"
   ]
  },
  {
   "cell_type": "markdown",
   "id": "e1534381",
   "metadata": {},
   "source": [
    "\n",
    "#### Creating step: ``generate_lda`` <a class=\"anchor\" id=\"execution_stage_1_generate_lda\"></a>"
   ]
  },
  {
   "cell_type": "code",
   "execution_count": null,
   "id": "decbdcd6",
   "metadata": {},
   "outputs": [],
   "source": [
    "step_generate_lda = Step(\"language.lda.LDA\", step_id=\"generate_lda\")\n",
    "step_generate_lda.info"
   ]
  },
  {
   "cell_type": "markdown",
   "id": "a9ea56b2",
   "metadata": {
    "lines_to_next_cell": 2
   },
   "source": [
    "\n",
    "## Connecting the workflow steps <a class=\"anchor\" id=\"connecting_steps\"></a>\n",
    "\n",
    "After we all steps are created, we need to wire them up to create our workflow structure. All step inputs that are not\n",
    "connected to other step outputs are considered user inputs, and, if their values are marked as 'required', must be set\n",
    "later in order for our workflow to run successfully."
   ]
  },
  {
   "cell_type": "markdown",
   "id": "ffaf1fb4",
   "metadata": {},
   "source": [
    "#### Connecting inputs for: ``create_table_from_csvs``"
   ]
  },
  {
   "cell_type": "code",
   "execution_count": null,
   "id": "db1a3a57",
   "metadata": {
    "lines_to_next_cell": 2
   },
   "outputs": [],
   "source": [
    "step_create_table_from_csvs.input.files = step_read_files_in_folder.output.file_bundle"
   ]
  },
  {
   "cell_type": "markdown",
   "id": "1c09f945",
   "metadata": {},
   "source": [
    "#### Connecting inputs for: ``extract_date_from_file_name``"
   ]
  },
  {
   "cell_type": "code",
   "execution_count": null,
   "id": "5ff1d4a2",
   "metadata": {
    "lines_to_next_cell": 2
   },
   "outputs": [],
   "source": [
    "step_extract_date_from_file_name.input.array = step_create_table_from_csvs.output.table.file_name"
   ]
  },
  {
   "cell_type": "markdown",
   "id": "14128a03",
   "metadata": {},
   "source": [
    "#### Connecting inputs for: ``extract_ref_from_file_name``"
   ]
  },
  {
   "cell_type": "code",
   "execution_count": null,
   "id": "c1302662",
   "metadata": {
    "lines_to_next_cell": 2
   },
   "outputs": [],
   "source": [
    "step_extract_ref_from_file_name.input.array = step_create_table_from_csvs.output.table.file_name"
   ]
  },
  {
   "cell_type": "markdown",
   "id": "d4e9c711",
   "metadata": {},
   "source": [
    "#### Connecting inputs for: ``lookup_publication_name``"
   ]
  },
  {
   "cell_type": "code",
   "execution_count": null,
   "id": "83a0431c",
   "metadata": {
    "lines_to_next_cell": 2
   },
   "outputs": [],
   "source": [
    "step_lookup_publication_name.input.array = step_extract_ref_from_file_name.output.array"
   ]
  },
  {
   "cell_type": "markdown",
   "id": "f5ff9c09",
   "metadata": {},
   "source": [
    "#### Connecting inputs for: ``create_date_range_filter``"
   ]
  },
  {
   "cell_type": "code",
   "execution_count": null,
   "id": "acb0ac05",
   "metadata": {
    "lines_to_next_cell": 2
   },
   "outputs": [],
   "source": [
    "step_create_date_range_filter.input.array = step_extract_date_from_file_name.output.array"
   ]
  },
  {
   "cell_type": "markdown",
   "id": "a4f92265",
   "metadata": {},
   "source": [
    "#### Connecting inputs for: ``merged_table``"
   ]
  },
  {
   "cell_type": "code",
   "execution_count": null,
   "id": "1bd66f94",
   "metadata": {
    "lines_to_next_cell": 2
   },
   "outputs": [],
   "source": [
    "\n",
    "step_merged_table.input.sources = [\n",
    "    step_create_table_from_csvs.output.table,\n",
    "    step_extract_date_from_file_name.output.array,\n",
    "    step_extract_ref_from_file_name.output.array,\n",
    "    step_lookup_publication_name.output.array,\n",
    "]"
   ]
  },
  {
   "cell_type": "markdown",
   "id": "5ca8b263",
   "metadata": {},
   "source": [
    "#### Connecting inputs for: ``filtered_table``"
   ]
  },
  {
   "cell_type": "code",
   "execution_count": null,
   "id": "691e2e5a",
   "metadata": {},
   "outputs": [],
   "source": [
    "step_filtered_table.input.table = step_merged_table.output.table"
   ]
  },
  {
   "cell_type": "code",
   "execution_count": null,
   "id": "02f5ac39",
   "metadata": {
    "lines_to_next_cell": 2
   },
   "outputs": [],
   "source": [
    "step_filtered_table.input.mask = step_create_date_range_filter.output.array"
   ]
  },
  {
   "cell_type": "markdown",
   "id": "ba8ea9b3",
   "metadata": {},
   "source": [
    "#### Connecting inputs for: ``tokenize_text_corpus``"
   ]
  },
  {
   "cell_type": "code",
   "execution_count": null,
   "id": "fb46bb61",
   "metadata": {
    "lines_to_next_cell": 2
   },
   "outputs": [],
   "source": [
    "step_tokenize_text_corpus.input.array = step_filtered_table.output.table.content"
   ]
  },
  {
   "cell_type": "markdown",
   "id": "f8a61eee",
   "metadata": {},
   "source": [
    "#### Connecting inputs for: ``remove_stopwords``"
   ]
  },
  {
   "cell_type": "code",
   "execution_count": null,
   "id": "12863298",
   "metadata": {
    "lines_to_next_cell": 2
   },
   "outputs": [],
   "source": [
    "step_remove_stopwords.input.token_lists = step_tokenize_text_corpus.output.array"
   ]
  },
  {
   "cell_type": "markdown",
   "id": "c3f37037",
   "metadata": {},
   "source": [
    "#### Connecting inputs for: ``lemmatize_corpus``"
   ]
  },
  {
   "cell_type": "code",
   "execution_count": null,
   "id": "4282d4e4",
   "metadata": {
    "lines_to_next_cell": 2
   },
   "outputs": [],
   "source": [
    "step_lemmatize_corpus.input.tokens_array = step_remove_stopwords.output.token_list"
   ]
  },
  {
   "cell_type": "markdown",
   "id": "027378fb",
   "metadata": {},
   "source": [
    "#### Connecting inputs for: ``generate_lda``"
   ]
  },
  {
   "cell_type": "code",
   "execution_count": null,
   "id": "189b7142",
   "metadata": {
    "lines_to_next_cell": 2
   },
   "outputs": [],
   "source": [
    "step_generate_lda.input.tokens_array = step_lemmatize_corpus.output.tokens_array"
   ]
  },
  {
   "cell_type": "markdown",
   "id": "5af1d736",
   "metadata": {},
   "source": [
    "# Workflow information <a class=\"anchor\" id=\"workflow_info\"></a>\n",
    "\n",
    "After our workflow is wired up, we look can look at its structure, and other properties.\n",
    "For that, we need to retrieve the dynamically assembled workflow object. We could do this from every one of the workflow steps,\n",
    "since they all share the same workflow:"
   ]
  },
  {
   "cell_type": "code",
   "execution_count": null,
   "id": "d5ad8d26",
   "metadata": {},
   "outputs": [],
   "source": [
    "workflow = step_generate_lda.workflow"
   ]
  },
  {
   "cell_type": "markdown",
   "id": "e79e0aca",
   "metadata": {},
   "source": [
    "## Workflow execution graph\n",
    "\n",
    "Let's look at the current execution graph for our workflow:"
   ]
  },
  {
   "cell_type": "code",
   "execution_count": null,
   "id": "c0f9b04c",
   "metadata": {},
   "outputs": [],
   "source": [
    "graph_to_image(workflow.structure.execution_graph)"
   ]
  },
  {
   "cell_type": "markdown",
   "id": "62c00570",
   "metadata": {},
   "source": [
    "# Setting workflow inputs <a class=\"anchor\" id=\"workflow_inputs\"></a>\n",
    "\n",
    "The final step before running the workflow, is to set input values:"
   ]
  },
  {
   "cell_type": "code",
   "execution_count": null,
   "id": "65c67394",
   "metadata": {
    "lines_to_next_cell": 0
   },
   "outputs": [],
   "source": [
    "\n",
    "step_read_files_in_folder.input.path = \"/home/markus/projects/dharpa/notebooks/TopicModelling/data_tm_workflow\"\n",
    "step_create_date_range_filter.input.earliest = \"1919-01-01\"\n",
    "step_create_date_range_filter.input.latest = \"2000-01-01\"\n",
    "step_remove_stopwords.input.languages = ['italian', 'german']\n",
    "step_generate_lda.input.compute_coherence = True"
   ]
  },
  {
   "cell_type": "markdown",
   "id": "5490f9b1",
   "metadata": {},
   "source": [
    "# Workflow results <a class=\"anchor\" id=\"workflow_results\"></a>\n",
    "\n",
    "We don't need to explicitly run the workflow, since our workflow object is smart enough to process the required steps\n",
    "for the outputs we request. But we can do it nonetheless, because it helps us debug any issues there might be by printing\n",
    "out the current workflow state:"
   ]
  },
  {
   "cell_type": "code",
   "execution_count": null,
   "id": "858a9b53",
   "metadata": {},
   "outputs": [],
   "source": [
    "\n",
    "workflow.process()\n",
    "workflow"
   ]
  },
  {
   "cell_type": "markdown",
   "id": "dade6adf",
   "metadata": {
    "lines_to_next_cell": 0
   },
   "source": [
    "### Outputs for step: ``read_files_in_folder`` <a class=\"anchor\" id=\"outputs_stage_1_read_files_in_folder\"></a>\n",
    "\n",
    "### Output: ``file_bundle``\n",
    "#### Value metadata"
   ]
  },
  {
   "cell_type": "code",
   "execution_count": null,
   "id": "35f6aff0",
   "metadata": {
    "lines_to_next_cell": 0
   },
   "outputs": [],
   "source": [
    "step_read_files_in_folder.output.file_bundle.value"
   ]
  },
  {
   "cell_type": "markdown",
   "id": "b4f7460b",
   "metadata": {
    "lines_to_next_cell": 0
   },
   "source": [
    "#### Value data"
   ]
  },
  {
   "cell_type": "code",
   "execution_count": null,
   "id": "5df29c4a",
   "metadata": {
    "lines_to_next_cell": 0
   },
   "outputs": [],
   "source": [
    "kiara.pretty_print(step_read_files_in_folder.output.file_bundle.data)"
   ]
  },
  {
   "cell_type": "markdown",
   "id": "99dff3ff",
   "metadata": {
    "lines_to_next_cell": 0
   },
   "source": [
    "### Outputs for step: ``create_table_from_csvs`` <a class=\"anchor\" id=\"outputs_stage_1_create_table_from_csvs\"></a>\n",
    "\n",
    "### Output: ``table``\n",
    "#### Value metadata"
   ]
  },
  {
   "cell_type": "code",
   "execution_count": null,
   "id": "0a9c5fe3",
   "metadata": {
    "lines_to_next_cell": 0
   },
   "outputs": [],
   "source": [
    "step_create_table_from_csvs.output.table.value"
   ]
  },
  {
   "cell_type": "markdown",
   "id": "0340bd3a",
   "metadata": {
    "lines_to_next_cell": 0
   },
   "source": [
    "#### Value data"
   ]
  },
  {
   "cell_type": "code",
   "execution_count": null,
   "id": "93bb4681",
   "metadata": {
    "lines_to_next_cell": 0
   },
   "outputs": [],
   "source": [
    "kiara.pretty_print(step_create_table_from_csvs.output.table.data)"
   ]
  },
  {
   "cell_type": "markdown",
   "id": "cd311bf6",
   "metadata": {
    "lines_to_next_cell": 0
   },
   "source": [
    "### Outputs for step: ``extract_date_from_file_name`` <a class=\"anchor\" id=\"outputs_stage_1_extract_date_from_file_name\"></a>\n",
    "\n",
    "### Output: ``array``\n",
    "#### Value metadata"
   ]
  },
  {
   "cell_type": "code",
   "execution_count": null,
   "id": "c5ddf309",
   "metadata": {
    "lines_to_next_cell": 0
   },
   "outputs": [],
   "source": [
    "step_extract_date_from_file_name.output.array.value"
   ]
  },
  {
   "cell_type": "markdown",
   "id": "ab0400a3",
   "metadata": {
    "lines_to_next_cell": 0
   },
   "source": [
    "#### Value data"
   ]
  },
  {
   "cell_type": "code",
   "execution_count": null,
   "id": "1f6982b0",
   "metadata": {
    "lines_to_next_cell": 0
   },
   "outputs": [],
   "source": [
    "kiara.pretty_print(step_extract_date_from_file_name.output.array.data)"
   ]
  },
  {
   "cell_type": "markdown",
   "id": "99b1b48e",
   "metadata": {
    "lines_to_next_cell": 0
   },
   "source": [
    "### Outputs for step: ``extract_ref_from_file_name`` <a class=\"anchor\" id=\"outputs_stage_2_extract_ref_from_file_name\"></a>\n",
    "\n",
    "### Output: ``array``\n",
    "#### Value metadata"
   ]
  },
  {
   "cell_type": "code",
   "execution_count": null,
   "id": "218ad7ab",
   "metadata": {
    "lines_to_next_cell": 0
   },
   "outputs": [],
   "source": [
    "step_extract_ref_from_file_name.output.array.value"
   ]
  },
  {
   "cell_type": "markdown",
   "id": "229ba2c9",
   "metadata": {
    "lines_to_next_cell": 0
   },
   "source": [
    "#### Value data"
   ]
  },
  {
   "cell_type": "code",
   "execution_count": null,
   "id": "f76aa421",
   "metadata": {
    "lines_to_next_cell": 0
   },
   "outputs": [],
   "source": [
    "kiara.pretty_print(step_extract_ref_from_file_name.output.array.data)"
   ]
  },
  {
   "cell_type": "markdown",
   "id": "db281d76",
   "metadata": {
    "lines_to_next_cell": 0
   },
   "source": [
    "### Outputs for step: ``lookup_publication_name`` <a class=\"anchor\" id=\"outputs_stage_1_lookup_publication_name\"></a>\n",
    "\n",
    "### Output: ``array``\n",
    "#### Value metadata"
   ]
  },
  {
   "cell_type": "code",
   "execution_count": null,
   "id": "3e04f986",
   "metadata": {
    "lines_to_next_cell": 0
   },
   "outputs": [],
   "source": [
    "step_lookup_publication_name.output.array.value"
   ]
  },
  {
   "cell_type": "markdown",
   "id": "4ac0ba99",
   "metadata": {
    "lines_to_next_cell": 0
   },
   "source": [
    "#### Value data"
   ]
  },
  {
   "cell_type": "code",
   "execution_count": null,
   "id": "9148f272",
   "metadata": {
    "lines_to_next_cell": 0
   },
   "outputs": [],
   "source": [
    "kiara.pretty_print(step_lookup_publication_name.output.array.data)"
   ]
  },
  {
   "cell_type": "markdown",
   "id": "df8d3388",
   "metadata": {
    "lines_to_next_cell": 0
   },
   "source": [
    "### Outputs for step: ``create_date_range_filter`` <a class=\"anchor\" id=\"outputs_stage_2_create_date_range_filter\"></a>\n",
    "\n",
    "### Output: ``array``\n",
    "#### Value metadata"
   ]
  },
  {
   "cell_type": "code",
   "execution_count": null,
   "id": "f9af0591",
   "metadata": {
    "lines_to_next_cell": 0
   },
   "outputs": [],
   "source": [
    "step_create_date_range_filter.output.array.value"
   ]
  },
  {
   "cell_type": "markdown",
   "id": "5d5e5dee",
   "metadata": {
    "lines_to_next_cell": 0
   },
   "source": [
    "#### Value data"
   ]
  },
  {
   "cell_type": "code",
   "execution_count": null,
   "id": "eab4a623",
   "metadata": {
    "lines_to_next_cell": 0
   },
   "outputs": [],
   "source": [
    "kiara.pretty_print(step_create_date_range_filter.output.array.data)"
   ]
  },
  {
   "cell_type": "markdown",
   "id": "369ac785",
   "metadata": {
    "lines_to_next_cell": 0
   },
   "source": [
    "### Outputs for step: ``merged_table`` <a class=\"anchor\" id=\"outputs_stage_1_merged_table\"></a>\n",
    "\n",
    "### Output: ``table``\n",
    "#### Value metadata"
   ]
  },
  {
   "cell_type": "code",
   "execution_count": null,
   "id": "e1319cf0",
   "metadata": {
    "lines_to_next_cell": 0
   },
   "outputs": [],
   "source": [
    "step_merged_table.output.table.value"
   ]
  },
  {
   "cell_type": "markdown",
   "id": "3eacd28b",
   "metadata": {
    "lines_to_next_cell": 0
   },
   "source": [
    "#### Value data"
   ]
  },
  {
   "cell_type": "code",
   "execution_count": null,
   "id": "ab86a17b",
   "metadata": {
    "lines_to_next_cell": 0
   },
   "outputs": [],
   "source": [
    "kiara.pretty_print(step_merged_table.output.table.data)"
   ]
  },
  {
   "cell_type": "markdown",
   "id": "c467604f",
   "metadata": {
    "lines_to_next_cell": 0
   },
   "source": [
    "### Outputs for step: ``filtered_table`` <a class=\"anchor\" id=\"outputs_stage_1_filtered_table\"></a>\n",
    "\n",
    "### Output: ``table``\n",
    "#### Value metadata"
   ]
  },
  {
   "cell_type": "code",
   "execution_count": null,
   "id": "b09a43e4",
   "metadata": {
    "lines_to_next_cell": 0
   },
   "outputs": [],
   "source": [
    "step_filtered_table.output.table.value"
   ]
  },
  {
   "cell_type": "markdown",
   "id": "d4db2cff",
   "metadata": {
    "lines_to_next_cell": 0
   },
   "source": [
    "#### Value data"
   ]
  },
  {
   "cell_type": "code",
   "execution_count": null,
   "id": "56b2c695",
   "metadata": {
    "lines_to_next_cell": 0
   },
   "outputs": [],
   "source": [
    "kiara.pretty_print(step_filtered_table.output.table.data)"
   ]
  },
  {
   "cell_type": "markdown",
   "id": "3d648894",
   "metadata": {
    "lines_to_next_cell": 0
   },
   "source": [
    "### Outputs for step: ``tokenize_text_corpus`` <a class=\"anchor\" id=\"outputs_stage_1_tokenize_text_corpus\"></a>\n",
    "\n",
    "### Output: ``array``\n",
    "#### Value metadata"
   ]
  },
  {
   "cell_type": "code",
   "execution_count": null,
   "id": "ce4f5401",
   "metadata": {
    "lines_to_next_cell": 0
   },
   "outputs": [],
   "source": [
    "step_tokenize_text_corpus.output.array.value"
   ]
  },
  {
   "cell_type": "markdown",
   "id": "60bc9a89",
   "metadata": {
    "lines_to_next_cell": 0
   },
   "source": [
    "#### Value data"
   ]
  },
  {
   "cell_type": "code",
   "execution_count": null,
   "id": "04704844",
   "metadata": {
    "lines_to_next_cell": 0
   },
   "outputs": [],
   "source": [
    "kiara.pretty_print(step_tokenize_text_corpus.output.array.data)"
   ]
  },
  {
   "cell_type": "markdown",
   "id": "07cc89dd",
   "metadata": {
    "lines_to_next_cell": 0
   },
   "source": [
    "### Outputs for step: ``remove_stopwords`` <a class=\"anchor\" id=\"outputs_stage_1_remove_stopwords\"></a>\n",
    "\n",
    "### Output: ``token_list``\n",
    "#### Value metadata"
   ]
  },
  {
   "cell_type": "code",
   "execution_count": null,
   "id": "32407cc9",
   "metadata": {
    "lines_to_next_cell": 0
   },
   "outputs": [],
   "source": [
    "step_remove_stopwords.output.token_list.value"
   ]
  },
  {
   "cell_type": "markdown",
   "id": "9178d151",
   "metadata": {
    "lines_to_next_cell": 0
   },
   "source": [
    "#### Value data"
   ]
  },
  {
   "cell_type": "code",
   "execution_count": null,
   "id": "ea11921d",
   "metadata": {
    "lines_to_next_cell": 0
   },
   "outputs": [],
   "source": [
    "kiara.pretty_print(step_remove_stopwords.output.token_list.data)"
   ]
  },
  {
   "cell_type": "markdown",
   "id": "f9b0d5e7",
   "metadata": {
    "lines_to_next_cell": 0
   },
   "source": [
    "### Outputs for step: ``lemmatize_corpus`` <a class=\"anchor\" id=\"outputs_stage_1_lemmatize_corpus\"></a>\n",
    "\n",
    "### Output: ``tokens_array``\n",
    "#### Value metadata"
   ]
  },
  {
   "cell_type": "code",
   "execution_count": null,
   "id": "0d9beb41",
   "metadata": {
    "lines_to_next_cell": 0
   },
   "outputs": [],
   "source": [
    "step_lemmatize_corpus.output.tokens_array.value"
   ]
  },
  {
   "cell_type": "markdown",
   "id": "7484cf02",
   "metadata": {
    "lines_to_next_cell": 0
   },
   "source": [
    "#### Value data"
   ]
  },
  {
   "cell_type": "code",
   "execution_count": null,
   "id": "99e458ae",
   "metadata": {
    "lines_to_next_cell": 0
   },
   "outputs": [],
   "source": [
    "kiara.pretty_print(step_lemmatize_corpus.output.tokens_array.data)"
   ]
  },
  {
   "cell_type": "markdown",
   "id": "0b0abc62",
   "metadata": {
    "lines_to_next_cell": 0
   },
   "source": [
    "### Outputs for step: ``generate_lda`` <a class=\"anchor\" id=\"outputs_stage_1_generate_lda\"></a>\n",
    "\n",
    "### Output: ``topic_model``\n",
    "#### Value metadata"
   ]
  },
  {
   "cell_type": "code",
   "execution_count": null,
   "id": "cfc5fd4a",
   "metadata": {
    "lines_to_next_cell": 0
   },
   "outputs": [],
   "source": [
    "step_generate_lda.output.topic_model.value"
   ]
  },
  {
   "cell_type": "markdown",
   "id": "4622c5b4",
   "metadata": {
    "lines_to_next_cell": 0
   },
   "source": [
    "#### Value data"
   ]
  },
  {
   "cell_type": "code",
   "execution_count": null,
   "id": "753df938",
   "metadata": {},
   "outputs": [],
   "source": [
    "kiara.pretty_print(step_generate_lda.output.topic_model.data)"
   ]
  }
 ],
 "metadata": {
  "jupytext": {
   "cell_markers": "region,endregion",
   "formats": "ipynb,.pct.py:percent,.lgt.py:light,.spx.py:sphinx,md,Rmd,.pandoc.md:pandoc"
  },
  "kernelspec": {
   "display_name": "Python 3",
   "language": "python",
   "name": "python3"
  }
 },
 "nbformat": 4,
 "nbformat_minor": 5
}
